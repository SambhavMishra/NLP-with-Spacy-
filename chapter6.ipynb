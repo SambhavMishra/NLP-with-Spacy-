{
 "cells": [
  {
   "attachments": {},
   "cell_type": "markdown",
   "metadata": {},
   "source": [
    "## Chapter 6: How to use spacy Matcher"
   ]
  },
  {
   "cell_type": "code",
   "execution_count": 29,
   "metadata": {},
   "outputs": [],
   "source": [
    "import spacy\n",
    "from spacy.matcher import Matcher"
   ]
  },
  {
   "cell_type": "code",
   "execution_count": 30,
   "metadata": {},
   "outputs": [],
   "source": [
    "nlp = spacy.load(\"en_core_web_sm\")"
   ]
  },
  {
   "cell_type": "code",
   "execution_count": 31,
   "metadata": {},
   "outputs": [],
   "source": [
    "matcher = Matcher(nlp.vocab)\n",
    "pattern = [{\"LIKE_EMAIL\": True}]\n",
    "matcher.add(\"EMAIL_ADDRESSS\", [pattern]) # A list withing a list is required"
   ]
  },
  {
   "cell_type": "code",
   "execution_count": 32,
   "metadata": {},
   "outputs": [],
   "source": [
    "doc = nlp(\"This is an email address: wmattingly@aol.com\")\n",
    "matches = matcher(doc)"
   ]
  },
  {
   "cell_type": "code",
   "execution_count": 33,
   "metadata": {},
   "outputs": [
    {
     "name": "stdout",
     "output_type": "stream",
     "text": [
      "[(7369011462154749965, 6, 7)]\n"
     ]
    }
   ],
   "source": [
    "print(matches) # index: 0 = lexeme 1 = Start token 2 = End token"
   ]
  },
  {
   "cell_type": "code",
   "execution_count": 34,
   "metadata": {},
   "outputs": [
    {
     "name": "stdout",
     "output_type": "stream",
     "text": [
      "EMAIL_ADDRESSS\n"
     ]
    }
   ],
   "source": [
    "print(nlp.vocab[matches[0][0]].text)"
   ]
  },
  {
   "cell_type": "code",
   "execution_count": 35,
   "metadata": {},
   "outputs": [],
   "source": [
    "with open(\"data\\wiki_srn.txt\", \"r\") as f:\n",
    "    text = f.read()"
   ]
  },
  {
   "cell_type": "code",
   "execution_count": 36,
   "metadata": {},
   "outputs": [
    {
     "name": "stdout",
     "output_type": "stream",
     "text": [
      "Srinivasa Ramanujan was an Indian mathematician. Though he had almost no formal training in pure mathematics, he made substantial contributions to mathematical analysis, number theory, infinite series, and continued fractions, including solutions to mathematical problems then considered unsolvable.\n",
      "\n",
      "Ramanujan initially developed his own mathematical research in isolation. According to Hans Eysenck, \"he tried to interest the leading professional mathematicians in his work, but failed for the most part. What he had to show them was too novel, too unfamiliar, and additionally presented in unusual ways; they could not be bothered\".[4] Seeking mathematicians who could better understand his work, in 1913 he began a postal correspondence with the English mathematician G. H. Hardy at the University of Cambridge, England. Recognising Ramanujan's work as extraordinary, Hardy arranged for him to travel to Cambridge. In his notes, Hardy commented that Ramanujan had produced groundbreaking new theorems, including some that \"defeated me completely; I had never seen anything in the least like them before\",[5] and some recently proven but highly advanced results.\n",
      "\n",
      "During his short life, Ramanujan independently compiled nearly 3,900 results (mostly identities and equations).[6] Many were completely novel; his original and highly unconventional results, such as the Ramanujan prime, the Ramanujan theta function, partition formulae and mock theta functions, have opened entire new areas of work and inspired a vast amount of further research.[7] Of his thousands of results, all but a dozen or two have now been proven correct.[8] The Ramanujan Journal, a scientific journal, was established to publish work in all areas of mathematics influenced by Ramanujan,[9] and his notebooksâ€”containing summaries of his published and unpublished resultsâ€”have been analysed and studied for decades since his death as a source of new mathematical ideas. As late as 2012, researchers continued to discover that mere comments in his writings about \"simple properties\" and \"similar outputs\" for certain findings were themselves profound and subtle number theory results that remained unsuspected until nearly a century after his death.[10][11] He became one of the youngest Fellows of the Royal Society and only the second Indian member, and the first Indian to be elected a Fellow of Trinity College, Cambridge. Of his original letters, Hardy stated that a single look was enough to show they could have been written only by a mathematician of the highest calibre, comparing Ramanujan to mathematical geniuses such as Euler and Jacobi.\n",
      "\n",
      "In 1919, ill healthâ€”now believed to have been hepatic amoebiasis (a complication from episodes of dysentery many years previously)â€”compelled Ramanujan's return to India, where he died in 1920 at the age of 32. His last letters to Hardy, written in January 1920, show that he was still continuing to produce new mathematical ideas and theorems. His \"lost notebook\", containing discoveries from the last year of his life, caused great excitement among mathematicians when it was rediscovered in 1976.\n",
      "\n",
      "Early life\n",
      "\n",
      "Ramanujan's birthplace on 18 Alahiri Street, Erode, now in Tamil Nadu\n",
      "\n",
      "Ramanujan's home on Sarangapani Sannidhi Street, Kumbakonam\n",
      "Ramanujan (literally, \"younger brother of Rama\", a Hindu deity)[12] was born on 22 December 1887 into a Tamil Brahmin Iyengar family in Erode, in present-day Tamil Nadu.[13] His father, Kuppuswamy Srinivasa Iyengar, originally from Thanjavur district, worked as a clerk in a sari shop.[14][2] His mother, Komalatammal, was a housewife and sang at a local temple.[15] They lived in a small traditional home on Sarangapani Sannidhi Street in the town of Kumbakonam.[16] The family home is now a museum. When Ramanujan was a year and a half old, his mother gave birth to a son, Sadagopan, who died less than three months later. In December 1889, Ramanujan contracted smallpox, but recovered, unlike the 4,000 others who died in a bad year in the Thanjavur district around this time. He moved with his mother to her parents' house in Kanchipuram, near Madras (now Chennai). His mother gave birth to two more children, in 1891 and 1894, both of whom died before their first birthdays.[12]\n",
      "\n",
      "On 1 October 1892, Ramanujan was enrolled at the local school.[17] After his maternal grandfather lost his job as a court official in Kanchipuram,[18] Ramanujan and his mother moved back to Kumbakonam, and he was enrolled in Kangayan Primary School.[19] When his paternal grandfather died, he was sent back to his maternal grandparents, then living in Madras. He did not like school in Madras, and tried to avoid attending. His family enlisted a local constable to make sure he attended school. Within six months, Ramanujan was back in Kumbakonam.[19]\n",
      "\n",
      "Since Ramanujan's father was at work most of the day, his mother took care of the boy, and they had a close relationship. From her, he learned about tradition and puranas, to sing religious songs, to attend pujas at the temple, and to maintain particular eating habitsâ€”all part of Brahmin culture.[20] At Kangayan Primary School, Ramanujan performed well. Just before turning 10, in November 1897, he passed his primary examinations in English, Tamil, geography, and arithmetic with the best scores in the district.[21] That year, Ramanujan entered Town Higher Secondary School, where he encountered formal mathematics for the first time.[21]\n",
      "\n",
      "A child prodigy by age 11, he had exhausted the mathematical knowledge of two college students who were lodgers at his home. He was later lent a book written by S. L. Loney on advanced trigonometry.[22][23] He mastered this by the age of 13 while discovering sophisticated theorems on his own. By 14, he received merit certificates and academic awards that continued throughout his school career, and he assisted the school in the logistics of assigning its 1,200 students (each with differing needs) to its approximately 35 teachers.[24] He completed mathematical exams in half the allotted time, and showed a familiarity with geometry and infinite series. Ramanujan was shown how to solve cubic equations in 1902. He would later develop his own method to solve the quartic. In 1903, he tried to solve the quintic, not knowing that it was impossible to solve with radicals.[25]\n",
      "\n",
      "In 1903, when he was 16, Ramanujan obtained from a friend a library copy of A Synopsis of Elementary Results in Pure and Applied Mathematics, G. S. Carr's collection of 5,000 theorems.[26][27] Ramanujan reportedly studied the contents of the book in detail.[28] The next year, Ramanujan independently developed and investigated the Bernoulli numbers and calculated the Eulerâ€“Mascheroni constant up to 15 decimal places.[29] His peers at the time said they \"rarely understood him\" and \"stood in respectful awe\" of him.[24]\n",
      "\n",
      "When he graduated from Town Higher Secondary School in 1904, Ramanujan was awarded the K. Ranganatha Rao prize for mathematics by the school's headmaster, Krishnaswami Iyer. Iyer introduced Ramanujan as an outstanding student who deserved scores higher than the maximum.[30] He received a scholarship to study at Government Arts College, Kumbakonam,[31][32] but was so intent on mathematics that he could not focus on any other subjects and failed most of them, losing his scholarship in the process.[33] In August 1905, Ramanujan ran away from home, heading towards Visakhapatnam, and stayed in Rajahmundry[34] for about a month.[33] He later enrolled at Pachaiyappa's College in Madras. There, he passed in mathematics, choosing only to attempt questions that appealed to him and leaving the rest unanswered, but performed poorly in other subjects, such as English, physiology, and Sanskrit.[35] Ramanujan failed his Fellow of Arts exam in December 1906 and again a year later. Without an FA degree, he left college and continued to pursue independent research in mathematics, living in extreme poverty and often on the brink of starvation.[36]\n",
      "\n",
      "In 1910, after a meeting between the 23-year-old Ramanujan and the founder of the Indian Mathematical Society, V. Ramaswamy Aiyer, Ramanujan began to get recognition in Madras's mathematical circles, leading to his inclusion as a researcher at the University of Madras.[37]\n",
      "\n",
      "Adulthood in India\n",
      "On 14 July 1909, Ramanujan married Janaki (Janakiammal; 21 March 1899 â€“ 13 April 1994),[38] a girl his mother had selected for him a year earlier and who was ten years old when they married.[39][40][41] It was not unusual then for marriages to be arranged with girls at a young age. Janaki was from Rajendram, a village close to Marudur (Karur district) Railway Station. Ramanujan's father did not participate in the marriage ceremony.[42] As was common at that time, Janaki continued to stay at her maternal home for three years after marriage, until she reached puberty. In 1912, she and Ramanujan's mother joined Ramanujan in Madras.[43]\n",
      "\n",
      "After the marriage, Ramanujan developed a hydrocele testis.[44] The condition could be treated with a routine surgical operation that would release the blocked fluid in the scrotal sac, but his family could not afford the operation. In January 1910, a doctor volunteered to do the surgery at no cost.[45]\n",
      "\n",
      "After his successful surgery, Ramanujan searched for a job. He stayed at a friend's house while he went from door to door around Madras looking for a clerical position. To make money, he tutored students at Presidency College who were preparing for their Fellow of Arts exam.[46]\n",
      "\n",
      "In late 1910, Ramanujan was sick again. He feared for his health, and told his friend R. Radakrishna Iyer to \"hand [his notebooks] over to Professor Singaravelu Mudaliar [the mathematics professor at Pachaiyappa's College] or to the British professor Edward B. Ross, of the Madras Christian College.\"[47] After Ramanujan recovered and retrieved his notebooks from Iyer, he took a train from Kumbakonam to Villupuram, a city under French control.[48][49] In 1912, Ramanujan moved with his wife and mother to a house in Saiva Muthaiah Mudali street, George Town, Madras, where they lived for a few months.[50] In May 1913, upon securing a research position at Madras University, Ramanujan moved with his family to Triplicane.[51]\n",
      "\n",
      "Pursuit of career in mathematics\n",
      "In 1910, Ramanujan met deputy collector V. Ramaswamy Aiyer, who founded the Indian Mathematical Society.[52] Wishing for a job at the revenue department where Aiyer worked, Ramanujan showed him his mathematics notebooks. As Aiyer later recalled:\n",
      "\n",
      "I was struck by the extraordinary mathematical results contained in [the notebooks]. I had no mind to smother his genius by an appointment in the lowest rungs of the revenue department.[53]\n",
      "\n",
      "Aiyer sent Ramanujan, with letters of introduction, to his mathematician friends in Madras.[52] Some of them looked at his work and gave him letters of introduction to R. Ramachandra Rao, the district collector for Nellore and the secretary of the Indian Mathematical Society.[54][55][56] Rao was impressed by Ramanujan's research but doubted that it was his own work. Ramanujan mentioned a correspondence he had with Professor Saldhana, a notable Bombay mathematician, in which Saldhana expressed a lack of understanding of his work but concluded that he was not a fraud.[57] Ramanujan's friend C. V. Rajagopalachari tried to quell Rao's doubts about Ramanujan's academic integrity. Rao agreed to give him another chance, and listened as Ramanujan discussed elliptic integrals, hypergeometric series, and his theory of divergent series, which Rao said ultimately convinced him of Ramanujan's brilliance.[57] When Rao asked him what he wanted, Ramanujan replied that he needed work and financial support. Rao consented and sent him to Madras. He continued his research with Rao's financial aid. With Aiyer's help, Ramanujan had his work published in the Journal of the Indian Mathematical Society.[58]\n",
      "\n",
      "\n"
     ]
    }
   ],
   "source": [
    "print(text)"
   ]
  },
  {
   "cell_type": "code",
   "execution_count": 37,
   "metadata": {},
   "outputs": [],
   "source": [
    "nlp = spacy.load(\"en_core_web_sm\")"
   ]
  },
  {
   "cell_type": "code",
   "execution_count": 38,
   "metadata": {},
   "outputs": [
    {
     "name": "stdout",
     "output_type": "stream",
     "text": [
      "357\n",
      "(451313080118390996, 0, 1) Srinivasa\n",
      "(451313080118390996, 0, 2) Srinivasa Ramanujan\n",
      "(451313080118390996, 1, 2) Ramanujan\n",
      "(451313080118390996, 46, 47) Ramanujan\n",
      "(451313080118390996, 58, 59) Hans\n",
      "(451313080118390996, 58, 60) Hans Eysenck\n",
      "(451313080118390996, 59, 60) Eysenck\n",
      "(451313080118390996, 127, 128) G.\n",
      "(451313080118390996, 127, 129) G. H.\n",
      "(451313080118390996, 128, 129) H.\n"
     ]
    }
   ],
   "source": [
    "# Find proper nouns\n",
    "matcher = Matcher(nlp.vocab)\n",
    "pattern = [{\"POS\":\"PROPN\",\"OP\":\"+\"}]\n",
    "matcher.add(\"PROPER_NOUN\", [pattern])\n",
    "doc = nlp(text)\n",
    "matches = matcher(doc)\n",
    "print(len(matches))\n",
    "for match in matches[:10]:\n",
    "    print(match, doc[match[1]:match[2]])"
   ]
  },
  {
   "cell_type": "code",
   "execution_count": 39,
   "metadata": {},
   "outputs": [
    {
     "name": "stdout",
     "output_type": "stream",
     "text": [
      "196\n",
      "(451313080118390996, 976, 980) Town Higher Secondary School\n",
      "(451313080118390996, 1252, 1256) Town Higher Secondary School\n",
      "(451313080118390996, 1843, 1847) Saiva Muthaiah Mudali street\n",
      "(451313080118390996, 563, 566) Sarangapani Sannidhi Street\n",
      "(451313080118390996, 592, 595) Tamil Brahmin Iyengar\n",
      "(451313080118390996, 609, 612) Kuppuswamy Srinivasa Iyengar\n",
      "(451313080118390996, 650, 653) Sarangapani Sannidhi Street\n",
      "(451313080118390996, 932, 935) Kangayan Primary School\n",
      "(451313080118390996, 1024, 1027) S. L. Loney\n",
      "(451313080118390996, 1182, 1185) G. S. Carr\n"
     ]
    }
   ],
   "source": [
    "matcher = Matcher(nlp.vocab)\n",
    "pattern = [{\"POS\":\"PROPN\",\"OP\":\"+\"}]\n",
    "matcher.add(\"PROPER_NOUN\", [pattern], greedy=\"LONGEST\")\n",
    "doc = nlp(text)\n",
    "matches = matcher(doc)\n",
    "print(len(matches))\n",
    "for match in matches[:10]:\n",
    "    print(match, doc[match[1]:match[2]])"
   ]
  },
  {
   "cell_type": "code",
   "execution_count": 40,
   "metadata": {},
   "outputs": [
    {
     "name": "stdout",
     "output_type": "stream",
     "text": [
      "196\n",
      "(451313080118390996, 0, 2) Srinivasa Ramanujan\n",
      "(451313080118390996, 46, 47) Ramanujan\n",
      "(451313080118390996, 58, 60) Hans Eysenck\n",
      "(451313080118390996, 127, 129) G. H.\n",
      "(451313080118390996, 132, 133) University\n",
      "(451313080118390996, 134, 135) Cambridge\n",
      "(451313080118390996, 136, 137) England\n",
      "(451313080118390996, 139, 140) Ramanujan\n",
      "(451313080118390996, 152, 153) Cambridge\n",
      "(451313080118390996, 158, 159) Hardy\n"
     ]
    }
   ],
   "source": [
    "matcher = Matcher(nlp.vocab)\n",
    "pattern = [{\"POS\":\"PROPN\",\"OP\":\"+\"}]\n",
    "matcher.add(\"PROPER_NOUN\", [pattern], greedy=\"LONGEST\")\n",
    "doc = nlp(text)\n",
    "matches = matcher(doc)\n",
    "matches.sort(key = lambda x:x[1])\n",
    "print(len(matches))\n",
    "for match in matches[:10]:\n",
    "    print(match, doc[match[1]:match[2]])"
   ]
  },
  {
   "cell_type": "code",
   "execution_count": 41,
   "metadata": {},
   "outputs": [
    {
     "name": "stdout",
     "output_type": "stream",
     "text": [
      "32\n",
      "(451313080118390996, 158, 160) Hardy commented\n",
      "(451313080118390996, 413, 415) Hardy stated\n",
      "(451313080118390996, 452, 455) ill healthâ€”now believed\n",
      "(451313080118390996, 699, 701) Ramanujan contracted\n",
      "(451313080118390996, 936, 938) Ramanujan performed\n",
      "(451313080118390996, 974, 976) Ramanujan entered\n",
      "(451313080118390996, 1162, 1164) Ramanujan obtained\n",
      "(451313080118390996, 1278, 1280) Iyer introduced\n",
      "(451313080118390996, 1338, 1340) Ramanujan ran\n",
      "(451313080118390996, 1406, 1408) Ramanujan failed\n"
     ]
    }
   ],
   "source": [
    "# Proper nouns before verbs\n",
    "matcher = Matcher(nlp.vocab)\n",
    "pattern = [{\"POS\":\"PROPN\",\"OP\":\"+\"}, {\"POS\": \"VERB\"}]\n",
    "matcher.add(\"PROPER_NOUN\", [pattern], greedy=\"LONGEST\")\n",
    "doc = nlp(text)\n",
    "matches = matcher(doc)\n",
    "matches.sort(key = lambda x:x[1])\n",
    "print(len(matches))\n",
    "for match in matches[:10]:\n",
    "    print(match, doc[match[1]:match[2]])"
   ]
  },
  {
   "cell_type": "code",
   "execution_count": 42,
   "metadata": {},
   "outputs": [],
   "source": [
    "import json\n",
    "with open (\"data/alice.json\", \"r\") as f:\n",
    "    data = json.load(f)"
   ]
  },
  {
   "cell_type": "code",
   "execution_count": 43,
   "metadata": {},
   "outputs": [
    {
     "name": "stdout",
     "output_type": "stream",
     "text": [
      "Alice was beginning to get very tired of sitting by her sister on the bank, and of having nothing to do: once or twice she had peeped into the book her sister was reading, but it had no pictures or conversations in it, `and what is the use of a book,' thought Alice `without pictures or conversation?'\n"
     ]
    }
   ],
   "source": [
    "text = data[0][2][0]\n",
    "print(text)"
   ]
  },
  {
   "cell_type": "code",
   "execution_count": 44,
   "metadata": {},
   "outputs": [
    {
     "name": "stdout",
     "output_type": "stream",
     "text": [
      "Alice was beginning to get very tired of sitting by her sister on the bank, and of having nothing to do: once or twice she had peeped into the book her sister was reading, but it had no pictures or conversations in it, 'and what is the use of a book,' thought Alice 'without pictures or conversation?'\n"
     ]
    }
   ],
   "source": [
    "text = text.replace(\"`\",\"'\")\n",
    "print(text)"
   ]
  },
  {
   "cell_type": "code",
   "execution_count": 45,
   "metadata": {},
   "outputs": [
    {
     "name": "stdout",
     "output_type": "stream",
     "text": [
      "2\n",
      "(451313080118390996, 47, 58) 'and what is the use of a book,'\n",
      "(451313080118390996, 60, 67) 'without pictures or conversation?'\n"
     ]
    }
   ],
   "source": [
    "matcher = Matcher(nlp.vocab)\n",
    "pattern = [{\"ORTH\":\"'\"},\n",
    "           {\"IS_ALPHA\":True, \"OP\" : \"+\"},\n",
    "           {\"IS_PUNCT\":True, \"OP\" : \"*\"},\n",
    "           {\"ORTH\": \"'\"}]\n",
    "matcher.add(\"PROPER_NOUN\", [pattern], greedy=\"LONGEST\")\n",
    "doc = nlp(text)\n",
    "matches = matcher(doc)\n",
    "matches.sort(key = lambda x:x[1])\n",
    "print(len(matches))\n",
    "for match in matches[:10]:\n",
    "    print(match, doc[match[1]:match[2]])"
   ]
  },
  {
   "cell_type": "code",
   "execution_count": 46,
   "metadata": {},
   "outputs": [
    {
     "name": "stdout",
     "output_type": "stream",
     "text": [
      "1\n",
      "(451313080118390996, 47, 67) 'and what is the use of a book,' thought Alice 'without pictures or conversation?'\n"
     ]
    }
   ],
   "source": [
    "# Find out who is speaking\n",
    "speak_lemmas = [\"think\",\"say\"]\n",
    "matcher = Matcher(nlp.vocab)\n",
    "pattern = [{\"ORTH\":\"'\"},\n",
    "           {\"IS_ALPHA\":True, \"OP\" : \"+\"},\n",
    "           {\"IS_PUNCT\":True, \"OP\" : \"*\"},\n",
    "           {\"ORTH\": \"'\"},\n",
    "           {\"POS\": \"VERB\", \"LEMMA\": {\"IN\": speak_lemmas}},\n",
    "           {\"POS\": \"PROPN\", \"OP\": \"+\"},\n",
    "           {\"ORTH\":\"'\"},\n",
    "           {\"IS_ALPHA\":True, \"OP\" : \"+\"},\n",
    "           {\"IS_PUNCT\":True, \"OP\" : \"*\"},\n",
    "           {\"ORTH\": \"'\"}\n",
    "           ]\n",
    "matcher.add(\"PROPER_NOUN\", [pattern], greedy=\"LONGEST\")\n",
    "doc = nlp(text)\n",
    "matches = matcher(doc)\n",
    "matches.sort(key = lambda x:x[1])\n",
    "print(len(matches))\n",
    "for match in matches[:10]:\n",
    "    print(match, doc[match[1]:match[2]])"
   ]
  },
  {
   "cell_type": "code",
   "execution_count": 47,
   "metadata": {},
   "outputs": [
    {
     "name": "stdout",
     "output_type": "stream",
     "text": [
      "0\n",
      "0\n",
      "0\n",
      "0\n",
      "0\n",
      "0\n",
      "0\n",
      "0\n",
      "0\n",
      "0\n",
      "0\n",
      "0\n",
      "0\n",
      "0\n",
      "0\n",
      "0\n",
      "0\n"
     ]
    }
   ],
   "source": [
    "for text in data[0][2]:\n",
    "    doc = nlp(text)\n",
    "    matches = matcher(doc)\n",
    "    print(len(matches))\n",
    "    matches.sort(key = lambda x:x[1])\n",
    "    for match in matches[:10]:\n",
    "        print(match, doc[match[1]:match[2]])"
   ]
  },
  {
   "cell_type": "code",
   "execution_count": 48,
   "metadata": {},
   "outputs": [
    {
     "name": "stdout",
     "output_type": "stream",
     "text": [
      "1\n",
      "(3232560085755078826, 47, 60) 'and what is the use of a book,' thought Alice\n",
      "0\n",
      "0\n",
      "0\n",
      "0\n",
      "0\n",
      "1\n",
      "(3232560085755078826, 0, 6) 'Well!' thought Alice\n",
      "0\n",
      "0\n",
      "0\n",
      "0\n",
      "0\n",
      "0\n",
      "0\n",
      "1\n",
      "(3232560085755078826, 57, 68) 'which certainly was not here before,' said Alice\n",
      "0\n",
      "0\n"
     ]
    }
   ],
   "source": [
    "speak_lemmas = [\"think\",\"say\"]\n",
    "text = data[0][2][0].replace(\"`\",\"'\")\n",
    "matcher = Matcher(nlp.vocab)\n",
    "pattern1 = [{\"ORTH\": \"'\"},\n",
    "            {\"IS_ALPHA\":True, \"OP\": \"+\"},\n",
    "            {\"IS_PUNCT\": True, \"OP\": \"*\"},\n",
    "            {\"ORTH\": \"`\"}, \n",
    "            {\"POS\": \"VERB\", \"LEMMA\": {\"IN\": speak_lemmas}},\n",
    "            {\"POS\": \"PROPN\", \"OP\": \"+\"}, {'ORTH': \"'\"}, {'IS_ALPHA': True, \"OP\": \"+\"}, {'IS_PUNCT': True, \"OP\": \"*\"}, {'ORTH': \"'\"}\n",
    "           ]\n",
    "pattern2 = [{'ORTH': \"'\"}, {'IS_ALPHA': True, \"OP\": \"+\"}, {'IS_PUNCT': True, \"OP\": \"*\"}, {'ORTH': \"'\"}, {\"POS\": \"VERB\", \"LEMMA\": {\"IN\": speak_lemmas}}, {\"POS\": \"PROPN\", \"OP\": \"+\"}]\n",
    "\n",
    "pattern3 = [{\"POS\": \"PROPN\", \"OP\": \"+\"},{\"POS\": \"VERB\", \"LEMMA\": {\"IN\": speak_lemmas}}, {'ORTH': \"'\"}, {'IS_ALPHA': True, \"OP\": \"+\"}, {'IS_PUNCT': True, \"OP\": \"*\"}, {'ORTH': \"'\"}]\n",
    "\n",
    "matcher.add(\"PROPER_NOUNS\", [pattern1, pattern2, pattern3], greedy=\"LONGEST\")\n",
    "for text in data[0][2]:\n",
    "    text = text.replace(\"`\", \"'\")\n",
    "    doc = nlp(text)\n",
    "    matches = matcher(doc)\n",
    "    matches.sort(key = lambda x: x[1])\n",
    "    print(len(matches))\n",
    "    for match in matches[:10]:\n",
    "        print(match, doc[match[1]:match[2]])"
   ]
  },
  {
   "cell_type": "code",
   "execution_count": null,
   "metadata": {},
   "outputs": [],
   "source": []
  }
 ],
 "metadata": {
  "kernelspec": {
   "display_name": "Python 3",
   "language": "python",
   "name": "python3"
  },
  "language_info": {
   "codemirror_mode": {
    "name": "ipython",
    "version": 3
   },
   "file_extension": ".py",
   "mimetype": "text/x-python",
   "name": "python",
   "nbconvert_exporter": "python",
   "pygments_lexer": "ipython3",
   "version": "3.10.7"
  },
  "orig_nbformat": 4,
  "vscode": {
   "interpreter": {
    "hash": "26de051ba29f2982a8de78e945f0abaf191376122a1563185a90213a26c5da77"
   }
  }
 },
 "nbformat": 4,
 "nbformat_minor": 2
}
